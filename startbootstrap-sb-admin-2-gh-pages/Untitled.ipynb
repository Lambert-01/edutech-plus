{
 "cells": [
  {
   "cell_type": "code",
   "execution_count": 1,
   "id": "ef1cbaad-bc09-4ceb-bc50-fe79b5dc989d",
   "metadata": {},
   "outputs": [
    {
     "name": "stdout",
     "output_type": "stream",
     "text": [
      "Note: you may need to restart the kernel to use updated packages.\n"
     ]
    }
   ],
   "source": [
    "pip install xlrd>=2.0.1"
   ]
  },
  {
   "cell_type": "code",
   "execution_count": null,
   "id": "d7661542-b095-48cf-8bc5-00c20d0bdea0",
   "metadata": {},
   "outputs": [],
   "source": [
    "import pandas as pd\n",
    "import matplotlib.pyplot as plt\n",
    "import seaborn as sns\n",
    "import numpy as np"
   ]
  },
  {
   "cell_type": "code",
   "execution_count": 3,
   "id": "4c494873-f611-4492-ac99-a83b7de9ace1",
   "metadata": {},
   "outputs": [],
   "source": [
    "df_project=pd.read_excel(\"C:/Users/user/Downloads/Data_Ana/INX_Future_Inc_Employee_Performance_CDS_Project2_Data_V1.8.xls\")"
   ]
  },
  {
   "cell_type": "code",
   "execution_count": 4,
   "id": "84d92b2a-7808-471f-8dc8-3a2b278f8d9a",
   "metadata": {},
   "outputs": [
    {
     "data": {
      "text/html": [
       "<div>\n",
       "<style scoped>\n",
       "    .dataframe tbody tr th:only-of-type {\n",
       "        vertical-align: middle;\n",
       "    }\n",
       "\n",
       "    .dataframe tbody tr th {\n",
       "        vertical-align: top;\n",
       "    }\n",
       "\n",
       "    .dataframe thead th {\n",
       "        text-align: right;\n",
       "    }\n",
       "</style>\n",
       "<table border=\"1\" class=\"dataframe\">\n",
       "  <thead>\n",
       "    <tr style=\"text-align: right;\">\n",
       "      <th></th>\n",
       "      <th>EmpNumber</th>\n",
       "      <th>Age</th>\n",
       "      <th>Gender</th>\n",
       "      <th>EducationBackground</th>\n",
       "      <th>MaritalStatus</th>\n",
       "      <th>EmpDepartment</th>\n",
       "      <th>EmpJobRole</th>\n",
       "      <th>BusinessTravelFrequency</th>\n",
       "      <th>DistanceFromHome</th>\n",
       "      <th>EmpEducationLevel</th>\n",
       "      <th>...</th>\n",
       "      <th>TotalWorkExperienceInYears</th>\n",
       "      <th>TrainingTimesLastYear</th>\n",
       "      <th>EmpWorkLifeBalance</th>\n",
       "      <th>ExperienceYearsAtThisCompany</th>\n",
       "      <th>ExperienceYearsInCurrentRole</th>\n",
       "      <th>YearsSinceLastPromotion</th>\n",
       "      <th>YearsWithCurrManager</th>\n",
       "      <th>Attrition</th>\n",
       "      <th>PerformanceRating</th>\n",
       "      <th>Sum</th>\n",
       "    </tr>\n",
       "  </thead>\n",
       "  <tbody>\n",
       "    <tr>\n",
       "      <th>0</th>\n",
       "      <td>E1001000</td>\n",
       "      <td>32</td>\n",
       "      <td>Male</td>\n",
       "      <td>Marketing</td>\n",
       "      <td>Single</td>\n",
       "      <td>Sales</td>\n",
       "      <td>Sales Executive</td>\n",
       "      <td>Travel_Rarely</td>\n",
       "      <td>10</td>\n",
       "      <td>3</td>\n",
       "      <td>...</td>\n",
       "      <td>10</td>\n",
       "      <td>2</td>\n",
       "      <td>2</td>\n",
       "      <td>10</td>\n",
       "      <td>7</td>\n",
       "      <td>0</td>\n",
       "      <td>8</td>\n",
       "      <td>No</td>\n",
       "      <td>3</td>\n",
       "      <td>28</td>\n",
       "    </tr>\n",
       "    <tr>\n",
       "      <th>1</th>\n",
       "      <td>E1001006</td>\n",
       "      <td>47</td>\n",
       "      <td>Male</td>\n",
       "      <td>Marketing</td>\n",
       "      <td>Single</td>\n",
       "      <td>Sales</td>\n",
       "      <td>Sales Executive</td>\n",
       "      <td>Travel_Rarely</td>\n",
       "      <td>14</td>\n",
       "      <td>4</td>\n",
       "      <td>...</td>\n",
       "      <td>20</td>\n",
       "      <td>2</td>\n",
       "      <td>3</td>\n",
       "      <td>7</td>\n",
       "      <td>7</td>\n",
       "      <td>1</td>\n",
       "      <td>7</td>\n",
       "      <td>No</td>\n",
       "      <td>3</td>\n",
       "      <td>28</td>\n",
       "    </tr>\n",
       "    <tr>\n",
       "      <th>2</th>\n",
       "      <td>E1001007</td>\n",
       "      <td>40</td>\n",
       "      <td>Male</td>\n",
       "      <td>Life Sciences</td>\n",
       "      <td>Married</td>\n",
       "      <td>Sales</td>\n",
       "      <td>Sales Executive</td>\n",
       "      <td>Travel_Frequently</td>\n",
       "      <td>5</td>\n",
       "      <td>4</td>\n",
       "      <td>...</td>\n",
       "      <td>20</td>\n",
       "      <td>2</td>\n",
       "      <td>3</td>\n",
       "      <td>18</td>\n",
       "      <td>13</td>\n",
       "      <td>1</td>\n",
       "      <td>12</td>\n",
       "      <td>No</td>\n",
       "      <td>4</td>\n",
       "      <td>28</td>\n",
       "    </tr>\n",
       "    <tr>\n",
       "      <th>3</th>\n",
       "      <td>E1001009</td>\n",
       "      <td>41</td>\n",
       "      <td>Male</td>\n",
       "      <td>Human Resources</td>\n",
       "      <td>Divorced</td>\n",
       "      <td>Human Resources</td>\n",
       "      <td>Manager</td>\n",
       "      <td>Travel_Rarely</td>\n",
       "      <td>10</td>\n",
       "      <td>4</td>\n",
       "      <td>...</td>\n",
       "      <td>23</td>\n",
       "      <td>2</td>\n",
       "      <td>2</td>\n",
       "      <td>21</td>\n",
       "      <td>6</td>\n",
       "      <td>12</td>\n",
       "      <td>6</td>\n",
       "      <td>No</td>\n",
       "      <td>3</td>\n",
       "      <td>28</td>\n",
       "    </tr>\n",
       "    <tr>\n",
       "      <th>4</th>\n",
       "      <td>E1001010</td>\n",
       "      <td>60</td>\n",
       "      <td>Male</td>\n",
       "      <td>Marketing</td>\n",
       "      <td>Single</td>\n",
       "      <td>Sales</td>\n",
       "      <td>Sales Executive</td>\n",
       "      <td>Travel_Rarely</td>\n",
       "      <td>16</td>\n",
       "      <td>4</td>\n",
       "      <td>...</td>\n",
       "      <td>10</td>\n",
       "      <td>1</td>\n",
       "      <td>3</td>\n",
       "      <td>2</td>\n",
       "      <td>2</td>\n",
       "      <td>2</td>\n",
       "      <td>2</td>\n",
       "      <td>No</td>\n",
       "      <td>3</td>\n",
       "      <td>28</td>\n",
       "    </tr>\n",
       "    <tr>\n",
       "      <th>...</th>\n",
       "      <td>...</td>\n",
       "      <td>...</td>\n",
       "      <td>...</td>\n",
       "      <td>...</td>\n",
       "      <td>...</td>\n",
       "      <td>...</td>\n",
       "      <td>...</td>\n",
       "      <td>...</td>\n",
       "      <td>...</td>\n",
       "      <td>...</td>\n",
       "      <td>...</td>\n",
       "      <td>...</td>\n",
       "      <td>...</td>\n",
       "      <td>...</td>\n",
       "      <td>...</td>\n",
       "      <td>...</td>\n",
       "      <td>...</td>\n",
       "      <td>...</td>\n",
       "      <td>...</td>\n",
       "      <td>...</td>\n",
       "      <td>...</td>\n",
       "    </tr>\n",
       "    <tr>\n",
       "      <th>1195</th>\n",
       "      <td>E100992</td>\n",
       "      <td>27</td>\n",
       "      <td>Female</td>\n",
       "      <td>Medical</td>\n",
       "      <td>Divorced</td>\n",
       "      <td>Sales</td>\n",
       "      <td>Sales Executive</td>\n",
       "      <td>Travel_Frequently</td>\n",
       "      <td>3</td>\n",
       "      <td>1</td>\n",
       "      <td>...</td>\n",
       "      <td>6</td>\n",
       "      <td>3</td>\n",
       "      <td>3</td>\n",
       "      <td>6</td>\n",
       "      <td>5</td>\n",
       "      <td>0</td>\n",
       "      <td>4</td>\n",
       "      <td>No</td>\n",
       "      <td>4</td>\n",
       "      <td>28</td>\n",
       "    </tr>\n",
       "    <tr>\n",
       "      <th>1196</th>\n",
       "      <td>E100993</td>\n",
       "      <td>37</td>\n",
       "      <td>Male</td>\n",
       "      <td>Life Sciences</td>\n",
       "      <td>Single</td>\n",
       "      <td>Development</td>\n",
       "      <td>Senior Developer</td>\n",
       "      <td>Travel_Rarely</td>\n",
       "      <td>10</td>\n",
       "      <td>2</td>\n",
       "      <td>...</td>\n",
       "      <td>4</td>\n",
       "      <td>2</td>\n",
       "      <td>3</td>\n",
       "      <td>1</td>\n",
       "      <td>0</td>\n",
       "      <td>0</td>\n",
       "      <td>0</td>\n",
       "      <td>No</td>\n",
       "      <td>3</td>\n",
       "      <td>28</td>\n",
       "    </tr>\n",
       "    <tr>\n",
       "      <th>1197</th>\n",
       "      <td>E100994</td>\n",
       "      <td>50</td>\n",
       "      <td>Male</td>\n",
       "      <td>Medical</td>\n",
       "      <td>Married</td>\n",
       "      <td>Development</td>\n",
       "      <td>Senior Developer</td>\n",
       "      <td>Travel_Rarely</td>\n",
       "      <td>28</td>\n",
       "      <td>1</td>\n",
       "      <td>...</td>\n",
       "      <td>20</td>\n",
       "      <td>3</td>\n",
       "      <td>3</td>\n",
       "      <td>20</td>\n",
       "      <td>8</td>\n",
       "      <td>3</td>\n",
       "      <td>8</td>\n",
       "      <td>No</td>\n",
       "      <td>3</td>\n",
       "      <td>28</td>\n",
       "    </tr>\n",
       "    <tr>\n",
       "      <th>1198</th>\n",
       "      <td>E100995</td>\n",
       "      <td>34</td>\n",
       "      <td>Female</td>\n",
       "      <td>Medical</td>\n",
       "      <td>Single</td>\n",
       "      <td>Data Science</td>\n",
       "      <td>Data Scientist</td>\n",
       "      <td>Travel_Rarely</td>\n",
       "      <td>9</td>\n",
       "      <td>3</td>\n",
       "      <td>...</td>\n",
       "      <td>9</td>\n",
       "      <td>3</td>\n",
       "      <td>4</td>\n",
       "      <td>8</td>\n",
       "      <td>7</td>\n",
       "      <td>7</td>\n",
       "      <td>7</td>\n",
       "      <td>No</td>\n",
       "      <td>3</td>\n",
       "      <td>28</td>\n",
       "    </tr>\n",
       "    <tr>\n",
       "      <th>1199</th>\n",
       "      <td>E100998</td>\n",
       "      <td>24</td>\n",
       "      <td>Female</td>\n",
       "      <td>Life Sciences</td>\n",
       "      <td>Single</td>\n",
       "      <td>Sales</td>\n",
       "      <td>Sales Executive</td>\n",
       "      <td>Travel_Rarely</td>\n",
       "      <td>3</td>\n",
       "      <td>2</td>\n",
       "      <td>...</td>\n",
       "      <td>4</td>\n",
       "      <td>3</td>\n",
       "      <td>3</td>\n",
       "      <td>2</td>\n",
       "      <td>2</td>\n",
       "      <td>2</td>\n",
       "      <td>0</td>\n",
       "      <td>Yes</td>\n",
       "      <td>2</td>\n",
       "      <td>28</td>\n",
       "    </tr>\n",
       "  </tbody>\n",
       "</table>\n",
       "<p>1200 rows × 29 columns</p>\n",
       "</div>"
      ],
      "text/plain": [
       "     EmpNumber  Age  Gender EducationBackground MaritalStatus  \\\n",
       "0     E1001000   32    Male           Marketing        Single   \n",
       "1     E1001006   47    Male           Marketing        Single   \n",
       "2     E1001007   40    Male       Life Sciences       Married   \n",
       "3     E1001009   41    Male     Human Resources      Divorced   \n",
       "4     E1001010   60    Male           Marketing        Single   \n",
       "...        ...  ...     ...                 ...           ...   \n",
       "1195   E100992   27  Female             Medical      Divorced   \n",
       "1196   E100993   37    Male       Life Sciences        Single   \n",
       "1197   E100994   50    Male             Medical       Married   \n",
       "1198   E100995   34  Female             Medical        Single   \n",
       "1199   E100998   24  Female       Life Sciences        Single   \n",
       "\n",
       "        EmpDepartment        EmpJobRole BusinessTravelFrequency  \\\n",
       "0               Sales   Sales Executive           Travel_Rarely   \n",
       "1               Sales   Sales Executive           Travel_Rarely   \n",
       "2               Sales   Sales Executive       Travel_Frequently   \n",
       "3     Human Resources           Manager           Travel_Rarely   \n",
       "4               Sales   Sales Executive           Travel_Rarely   \n",
       "...               ...               ...                     ...   \n",
       "1195            Sales   Sales Executive       Travel_Frequently   \n",
       "1196      Development  Senior Developer           Travel_Rarely   \n",
       "1197      Development  Senior Developer           Travel_Rarely   \n",
       "1198     Data Science    Data Scientist           Travel_Rarely   \n",
       "1199            Sales   Sales Executive           Travel_Rarely   \n",
       "\n",
       "      DistanceFromHome  EmpEducationLevel  ...  TotalWorkExperienceInYears  \\\n",
       "0                   10                  3  ...                          10   \n",
       "1                   14                  4  ...                          20   \n",
       "2                    5                  4  ...                          20   \n",
       "3                   10                  4  ...                          23   \n",
       "4                   16                  4  ...                          10   \n",
       "...                ...                ...  ...                         ...   \n",
       "1195                 3                  1  ...                           6   \n",
       "1196                10                  2  ...                           4   \n",
       "1197                28                  1  ...                          20   \n",
       "1198                 9                  3  ...                           9   \n",
       "1199                 3                  2  ...                           4   \n",
       "\n",
       "      TrainingTimesLastYear  EmpWorkLifeBalance  ExperienceYearsAtThisCompany  \\\n",
       "0                         2                   2                            10   \n",
       "1                         2                   3                             7   \n",
       "2                         2                   3                            18   \n",
       "3                         2                   2                            21   \n",
       "4                         1                   3                             2   \n",
       "...                     ...                 ...                           ...   \n",
       "1195                      3                   3                             6   \n",
       "1196                      2                   3                             1   \n",
       "1197                      3                   3                            20   \n",
       "1198                      3                   4                             8   \n",
       "1199                      3                   3                             2   \n",
       "\n",
       "      ExperienceYearsInCurrentRole  YearsSinceLastPromotion  \\\n",
       "0                                7                        0   \n",
       "1                                7                        1   \n",
       "2                               13                        1   \n",
       "3                                6                       12   \n",
       "4                                2                        2   \n",
       "...                            ...                      ...   \n",
       "1195                             5                        0   \n",
       "1196                             0                        0   \n",
       "1197                             8                        3   \n",
       "1198                             7                        7   \n",
       "1199                             2                        2   \n",
       "\n",
       "     YearsWithCurrManager  Attrition  PerformanceRating  Sum  \n",
       "0                       8         No                  3   28  \n",
       "1                       7         No                  3   28  \n",
       "2                      12         No                  4   28  \n",
       "3                       6         No                  3   28  \n",
       "4                       2         No                  3   28  \n",
       "...                   ...        ...                ...  ...  \n",
       "1195                    4         No                  4   28  \n",
       "1196                    0         No                  3   28  \n",
       "1197                    8         No                  3   28  \n",
       "1198                    7         No                  3   28  \n",
       "1199                    0        Yes                  2   28  \n",
       "\n",
       "[1200 rows x 29 columns]"
      ]
     },
     "execution_count": 4,
     "metadata": {},
     "output_type": "execute_result"
    }
   ],
   "source": [
    "df_project"
   ]
  },
  {
   "cell_type": "markdown",
   "id": "70c61478-ca0d-4021-bbfe-b7b57421c2c9",
   "metadata": {},
   "source": [
    "#  Data exploration"
   ]
  },
  {
   "cell_type": "markdown",
   "id": "9c33992e-f1b4-4a87-a2f8-ef82334719da",
   "metadata": {},
   "source": [
    "#### Check for the size of the dataset ( nbr of rows and columns )"
   ]
  },
  {
   "cell_type": "code",
   "execution_count": 5,
   "id": "13e13885-5db0-4b1d-8a06-ba24b9b7669f",
   "metadata": {},
   "outputs": [
    {
     "data": {
      "text/plain": [
       "(1200, 29)"
      ]
     },
     "execution_count": 5,
     "metadata": {},
     "output_type": "execute_result"
    }
   ],
   "source": [
    "df_project.shape"
   ]
  },
  {
   "cell_type": "code",
   "execution_count": 6,
   "id": "882f80ca-275a-4ec7-b36d-a0120284a57b",
   "metadata": {},
   "outputs": [
    {
     "name": "stdout",
     "output_type": "stream",
     "text": [
      "<class 'pandas.core.frame.DataFrame'>\n",
      "RangeIndex: 1200 entries, 0 to 1199\n",
      "Data columns (total 29 columns):\n",
      " #   Column                        Non-Null Count  Dtype \n",
      "---  ------                        --------------  ----- \n",
      " 0   EmpNumber                     1200 non-null   object\n",
      " 1   Age                           1200 non-null   int64 \n",
      " 2   Gender                        1200 non-null   object\n",
      " 3   EducationBackground           1200 non-null   object\n",
      " 4   MaritalStatus                 1200 non-null   object\n",
      " 5   EmpDepartment                 1200 non-null   object\n",
      " 6   EmpJobRole                    1200 non-null   object\n",
      " 7   BusinessTravelFrequency       1200 non-null   object\n",
      " 8   DistanceFromHome              1200 non-null   int64 \n",
      " 9   EmpEducationLevel             1200 non-null   int64 \n",
      " 10  EmpEnvironmentSatisfaction    1200 non-null   int64 \n",
      " 11  EmpHourlyRate                 1200 non-null   int64 \n",
      " 12  EmpJobInvolvement             1200 non-null   int64 \n",
      " 13  EmpJobLevel                   1200 non-null   int64 \n",
      " 14  EmpJobSatisfaction            1200 non-null   int64 \n",
      " 15  NumCompaniesWorked            1200 non-null   int64 \n",
      " 16  OverTime                      1200 non-null   object\n",
      " 17  EmpLastSalaryHikePercent      1200 non-null   int64 \n",
      " 18  EmpRelationshipSatisfaction   1200 non-null   int64 \n",
      " 19  TotalWorkExperienceInYears    1200 non-null   int64 \n",
      " 20  TrainingTimesLastYear         1200 non-null   int64 \n",
      " 21  EmpWorkLifeBalance            1200 non-null   int64 \n",
      " 22  ExperienceYearsAtThisCompany  1200 non-null   int64 \n",
      " 23  ExperienceYearsInCurrentRole  1200 non-null   int64 \n",
      " 24  YearsSinceLastPromotion       1200 non-null   int64 \n",
      " 25  YearsWithCurrManager          1200 non-null   int64 \n",
      " 26  Attrition                     1200 non-null   object\n",
      " 27  PerformanceRating             1200 non-null   int64 \n",
      " 28  Sum                           1200 non-null   int64 \n",
      "dtypes: int64(20), object(9)\n",
      "memory usage: 272.0+ KB\n"
     ]
    }
   ],
   "source": [
    "df_project.info()"
   ]
  },
  {
   "cell_type": "code",
   "execution_count": 7,
   "id": "29cbfe36-4548-461e-a0e4-1981aa359f13",
   "metadata": {},
   "outputs": [
    {
     "data": {
      "text/html": [
       "<div>\n",
       "<style scoped>\n",
       "    .dataframe tbody tr th:only-of-type {\n",
       "        vertical-align: middle;\n",
       "    }\n",
       "\n",
       "    .dataframe tbody tr th {\n",
       "        vertical-align: top;\n",
       "    }\n",
       "\n",
       "    .dataframe thead th {\n",
       "        text-align: right;\n",
       "    }\n",
       "</style>\n",
       "<table border=\"1\" class=\"dataframe\">\n",
       "  <thead>\n",
       "    <tr style=\"text-align: right;\">\n",
       "      <th></th>\n",
       "      <th>count</th>\n",
       "      <th>mean</th>\n",
       "      <th>std</th>\n",
       "      <th>min</th>\n",
       "      <th>25%</th>\n",
       "      <th>50%</th>\n",
       "      <th>75%</th>\n",
       "      <th>max</th>\n",
       "    </tr>\n",
       "  </thead>\n",
       "  <tbody>\n",
       "    <tr>\n",
       "      <th>Age</th>\n",
       "      <td>1200.0</td>\n",
       "      <td>36.918333</td>\n",
       "      <td>9.087289</td>\n",
       "      <td>18.0</td>\n",
       "      <td>30.0</td>\n",
       "      <td>36.0</td>\n",
       "      <td>43.0</td>\n",
       "      <td>60.0</td>\n",
       "    </tr>\n",
       "    <tr>\n",
       "      <th>DistanceFromHome</th>\n",
       "      <td>1200.0</td>\n",
       "      <td>9.165833</td>\n",
       "      <td>8.176636</td>\n",
       "      <td>1.0</td>\n",
       "      <td>2.0</td>\n",
       "      <td>7.0</td>\n",
       "      <td>14.0</td>\n",
       "      <td>29.0</td>\n",
       "    </tr>\n",
       "    <tr>\n",
       "      <th>EmpEducationLevel</th>\n",
       "      <td>1200.0</td>\n",
       "      <td>2.892500</td>\n",
       "      <td>1.044120</td>\n",
       "      <td>1.0</td>\n",
       "      <td>2.0</td>\n",
       "      <td>3.0</td>\n",
       "      <td>4.0</td>\n",
       "      <td>5.0</td>\n",
       "    </tr>\n",
       "    <tr>\n",
       "      <th>EmpEnvironmentSatisfaction</th>\n",
       "      <td>1200.0</td>\n",
       "      <td>2.715833</td>\n",
       "      <td>1.090599</td>\n",
       "      <td>1.0</td>\n",
       "      <td>2.0</td>\n",
       "      <td>3.0</td>\n",
       "      <td>4.0</td>\n",
       "      <td>4.0</td>\n",
       "    </tr>\n",
       "    <tr>\n",
       "      <th>EmpHourlyRate</th>\n",
       "      <td>1200.0</td>\n",
       "      <td>65.981667</td>\n",
       "      <td>20.211302</td>\n",
       "      <td>30.0</td>\n",
       "      <td>48.0</td>\n",
       "      <td>66.0</td>\n",
       "      <td>83.0</td>\n",
       "      <td>100.0</td>\n",
       "    </tr>\n",
       "    <tr>\n",
       "      <th>EmpJobInvolvement</th>\n",
       "      <td>1200.0</td>\n",
       "      <td>2.731667</td>\n",
       "      <td>0.707164</td>\n",
       "      <td>1.0</td>\n",
       "      <td>2.0</td>\n",
       "      <td>3.0</td>\n",
       "      <td>3.0</td>\n",
       "      <td>4.0</td>\n",
       "    </tr>\n",
       "    <tr>\n",
       "      <th>EmpJobLevel</th>\n",
       "      <td>1200.0</td>\n",
       "      <td>2.067500</td>\n",
       "      <td>1.107836</td>\n",
       "      <td>1.0</td>\n",
       "      <td>1.0</td>\n",
       "      <td>2.0</td>\n",
       "      <td>3.0</td>\n",
       "      <td>5.0</td>\n",
       "    </tr>\n",
       "    <tr>\n",
       "      <th>EmpJobSatisfaction</th>\n",
       "      <td>1200.0</td>\n",
       "      <td>2.732500</td>\n",
       "      <td>1.100888</td>\n",
       "      <td>1.0</td>\n",
       "      <td>2.0</td>\n",
       "      <td>3.0</td>\n",
       "      <td>4.0</td>\n",
       "      <td>4.0</td>\n",
       "    </tr>\n",
       "    <tr>\n",
       "      <th>NumCompaniesWorked</th>\n",
       "      <td>1200.0</td>\n",
       "      <td>2.665000</td>\n",
       "      <td>2.469384</td>\n",
       "      <td>0.0</td>\n",
       "      <td>1.0</td>\n",
       "      <td>2.0</td>\n",
       "      <td>4.0</td>\n",
       "      <td>9.0</td>\n",
       "    </tr>\n",
       "    <tr>\n",
       "      <th>EmpLastSalaryHikePercent</th>\n",
       "      <td>1200.0</td>\n",
       "      <td>15.222500</td>\n",
       "      <td>3.625918</td>\n",
       "      <td>11.0</td>\n",
       "      <td>12.0</td>\n",
       "      <td>14.0</td>\n",
       "      <td>18.0</td>\n",
       "      <td>25.0</td>\n",
       "    </tr>\n",
       "    <tr>\n",
       "      <th>EmpRelationshipSatisfaction</th>\n",
       "      <td>1200.0</td>\n",
       "      <td>2.725000</td>\n",
       "      <td>1.075642</td>\n",
       "      <td>1.0</td>\n",
       "      <td>2.0</td>\n",
       "      <td>3.0</td>\n",
       "      <td>4.0</td>\n",
       "      <td>4.0</td>\n",
       "    </tr>\n",
       "    <tr>\n",
       "      <th>TotalWorkExperienceInYears</th>\n",
       "      <td>1200.0</td>\n",
       "      <td>11.330000</td>\n",
       "      <td>7.797228</td>\n",
       "      <td>0.0</td>\n",
       "      <td>6.0</td>\n",
       "      <td>10.0</td>\n",
       "      <td>15.0</td>\n",
       "      <td>40.0</td>\n",
       "    </tr>\n",
       "    <tr>\n",
       "      <th>TrainingTimesLastYear</th>\n",
       "      <td>1200.0</td>\n",
       "      <td>2.785833</td>\n",
       "      <td>1.263446</td>\n",
       "      <td>0.0</td>\n",
       "      <td>2.0</td>\n",
       "      <td>3.0</td>\n",
       "      <td>3.0</td>\n",
       "      <td>6.0</td>\n",
       "    </tr>\n",
       "    <tr>\n",
       "      <th>EmpWorkLifeBalance</th>\n",
       "      <td>1200.0</td>\n",
       "      <td>2.744167</td>\n",
       "      <td>0.699374</td>\n",
       "      <td>1.0</td>\n",
       "      <td>2.0</td>\n",
       "      <td>3.0</td>\n",
       "      <td>3.0</td>\n",
       "      <td>4.0</td>\n",
       "    </tr>\n",
       "    <tr>\n",
       "      <th>ExperienceYearsAtThisCompany</th>\n",
       "      <td>1200.0</td>\n",
       "      <td>7.077500</td>\n",
       "      <td>6.236899</td>\n",
       "      <td>0.0</td>\n",
       "      <td>3.0</td>\n",
       "      <td>5.0</td>\n",
       "      <td>10.0</td>\n",
       "      <td>40.0</td>\n",
       "    </tr>\n",
       "    <tr>\n",
       "      <th>ExperienceYearsInCurrentRole</th>\n",
       "      <td>1200.0</td>\n",
       "      <td>4.291667</td>\n",
       "      <td>3.613744</td>\n",
       "      <td>0.0</td>\n",
       "      <td>2.0</td>\n",
       "      <td>3.0</td>\n",
       "      <td>7.0</td>\n",
       "      <td>18.0</td>\n",
       "    </tr>\n",
       "    <tr>\n",
       "      <th>YearsSinceLastPromotion</th>\n",
       "      <td>1200.0</td>\n",
       "      <td>2.194167</td>\n",
       "      <td>3.221560</td>\n",
       "      <td>0.0</td>\n",
       "      <td>0.0</td>\n",
       "      <td>1.0</td>\n",
       "      <td>3.0</td>\n",
       "      <td>15.0</td>\n",
       "    </tr>\n",
       "    <tr>\n",
       "      <th>YearsWithCurrManager</th>\n",
       "      <td>1200.0</td>\n",
       "      <td>4.105000</td>\n",
       "      <td>3.541576</td>\n",
       "      <td>0.0</td>\n",
       "      <td>2.0</td>\n",
       "      <td>3.0</td>\n",
       "      <td>7.0</td>\n",
       "      <td>17.0</td>\n",
       "    </tr>\n",
       "    <tr>\n",
       "      <th>PerformanceRating</th>\n",
       "      <td>1200.0</td>\n",
       "      <td>2.948333</td>\n",
       "      <td>0.518866</td>\n",
       "      <td>2.0</td>\n",
       "      <td>3.0</td>\n",
       "      <td>3.0</td>\n",
       "      <td>3.0</td>\n",
       "      <td>4.0</td>\n",
       "    </tr>\n",
       "    <tr>\n",
       "      <th>Sum</th>\n",
       "      <td>1200.0</td>\n",
       "      <td>28.000000</td>\n",
       "      <td>0.000000</td>\n",
       "      <td>28.0</td>\n",
       "      <td>28.0</td>\n",
       "      <td>28.0</td>\n",
       "      <td>28.0</td>\n",
       "      <td>28.0</td>\n",
       "    </tr>\n",
       "  </tbody>\n",
       "</table>\n",
       "</div>"
      ],
      "text/plain": [
       "                               count       mean        std   min   25%   50%  \\\n",
       "Age                           1200.0  36.918333   9.087289  18.0  30.0  36.0   \n",
       "DistanceFromHome              1200.0   9.165833   8.176636   1.0   2.0   7.0   \n",
       "EmpEducationLevel             1200.0   2.892500   1.044120   1.0   2.0   3.0   \n",
       "EmpEnvironmentSatisfaction    1200.0   2.715833   1.090599   1.0   2.0   3.0   \n",
       "EmpHourlyRate                 1200.0  65.981667  20.211302  30.0  48.0  66.0   \n",
       "EmpJobInvolvement             1200.0   2.731667   0.707164   1.0   2.0   3.0   \n",
       "EmpJobLevel                   1200.0   2.067500   1.107836   1.0   1.0   2.0   \n",
       "EmpJobSatisfaction            1200.0   2.732500   1.100888   1.0   2.0   3.0   \n",
       "NumCompaniesWorked            1200.0   2.665000   2.469384   0.0   1.0   2.0   \n",
       "EmpLastSalaryHikePercent      1200.0  15.222500   3.625918  11.0  12.0  14.0   \n",
       "EmpRelationshipSatisfaction   1200.0   2.725000   1.075642   1.0   2.0   3.0   \n",
       "TotalWorkExperienceInYears    1200.0  11.330000   7.797228   0.0   6.0  10.0   \n",
       "TrainingTimesLastYear         1200.0   2.785833   1.263446   0.0   2.0   3.0   \n",
       "EmpWorkLifeBalance            1200.0   2.744167   0.699374   1.0   2.0   3.0   \n",
       "ExperienceYearsAtThisCompany  1200.0   7.077500   6.236899   0.0   3.0   5.0   \n",
       "ExperienceYearsInCurrentRole  1200.0   4.291667   3.613744   0.0   2.0   3.0   \n",
       "YearsSinceLastPromotion       1200.0   2.194167   3.221560   0.0   0.0   1.0   \n",
       "YearsWithCurrManager          1200.0   4.105000   3.541576   0.0   2.0   3.0   \n",
       "PerformanceRating             1200.0   2.948333   0.518866   2.0   3.0   3.0   \n",
       "Sum                           1200.0  28.000000   0.000000  28.0  28.0  28.0   \n",
       "\n",
       "                               75%    max  \n",
       "Age                           43.0   60.0  \n",
       "DistanceFromHome              14.0   29.0  \n",
       "EmpEducationLevel              4.0    5.0  \n",
       "EmpEnvironmentSatisfaction     4.0    4.0  \n",
       "EmpHourlyRate                 83.0  100.0  \n",
       "EmpJobInvolvement              3.0    4.0  \n",
       "EmpJobLevel                    3.0    5.0  \n",
       "EmpJobSatisfaction             4.0    4.0  \n",
       "NumCompaniesWorked             4.0    9.0  \n",
       "EmpLastSalaryHikePercent      18.0   25.0  \n",
       "EmpRelationshipSatisfaction    4.0    4.0  \n",
       "TotalWorkExperienceInYears    15.0   40.0  \n",
       "TrainingTimesLastYear          3.0    6.0  \n",
       "EmpWorkLifeBalance             3.0    4.0  \n",
       "ExperienceYearsAtThisCompany  10.0   40.0  \n",
       "ExperienceYearsInCurrentRole   7.0   18.0  \n",
       "YearsSinceLastPromotion        3.0   15.0  \n",
       "YearsWithCurrManager           7.0   17.0  \n",
       "PerformanceRating              3.0    4.0  \n",
       "Sum                           28.0   28.0  "
      ]
     },
     "execution_count": 7,
     "metadata": {},
     "output_type": "execute_result"
    }
   ],
   "source": [
    "df_project.describe(). T"
   ]
  },
  {
   "cell_type": "code",
   "execution_count": null,
   "id": "d6e2b219-9c5d-4991-a969-cce827b707b3",
   "metadata": {},
   "outputs": [
    {
     "data": {
      "text/plain": [
       "EmpNumber                       0\n",
       "Age                             0\n",
       "Gender                          0\n",
       "EducationBackground             0\n",
       "MaritalStatus                   0\n",
       "EmpDepartment                   0\n",
       "EmpJobRole                      0\n",
       "BusinessTravelFrequency         0\n",
       "DistanceFromHome                0\n",
       "EmpEducationLevel               0\n",
       "EmpEnvironmentSatisfaction      0\n",
       "EmpHourlyRate                   0\n",
       "EmpJobInvolvement               0\n",
       "EmpJobLevel                     0\n",
       "EmpJobSatisfaction              0\n",
       "NumCompaniesWorked              0\n",
       "OverTime                        0\n",
       "EmpLastSalaryHikePercent        0\n",
       "EmpRelationshipSatisfaction     0\n",
       "TotalWorkExperienceInYears      0\n",
       "TrainingTimesLastYear           0\n",
       "EmpWorkLifeBalance              0\n",
       "ExperienceYearsAtThisCompany    0\n",
       "ExperienceYearsInCurrentRole    0\n",
       "YearsSinceLastPromotion         0\n",
       "YearsWithCurrManager            0\n",
       "Attrition                       0\n",
       "PerformanceRating               0\n",
       "Sum                             0\n",
       "dtype: int64"
      ]
     },
     "execution_count": 8,
     "metadata": {},
     "output_type": "execute_result"
    }
   ],
   "source": [
    "df_project.isnull().sum()"
   ]
  },
  {
   "cell_type": "markdown",
   "id": "3692468e-697a-4521-be81-f4414b55912b",
   "metadata": {},
   "source": [
    "### Detecting the outliers"
   ]
  },
  {
   "cell_type": "code",
   "execution_count": 9,
   "id": "820772c3-2c77-48ea-9ac0-b10428cae90a",
   "metadata": {},
   "outputs": [
    {
     "data": {
      "image/png": "[encoded data removed]",
      "text/plain": [
       "<Figure size 640x480 with 1 Axes>"
      ]
     },
     "metadata": {},
     "output_type": "display_data"
    }
   ],
   "source": [
    "sns.boxplot(df_project['TotalWorkExperienceInYears']);"
   ]
  },
  {
   "cell_type": "code",
   "execution_count": 10,
   "id": "654075d1-0520-4695-99fa-6df957278710",
   "metadata": {},
   "outputs": [
    {
     "name": "stderr",
     "output_type": "stream",
     "text": [
      "C:\\Users\\user\\AppData\\Local\\Temp\\ipykernel_25380\\1798273412.py:1: UserWarning: \n",
      "\n",
      "`distplot` is a deprecated function and will be removed in seaborn v0.14.0.\n",
      "\n",
      "Please adapt your code to use either `displot` (a figure-level function with\n",
      "similar flexibility) or `histplot` (an axes-level function for histograms).\n",
      "\n",
      "For a guide to updating your code to use the new functions, please see\n",
      "https://gist.github.com/mwaskom/de44147ed2974457ad6372750bbe5751\n",
      "\n",
      "  sns.distplot(df_project['TotalWorkExperienceInYears']);\n"
     ]
    },
    {
     "data": {
      "image/png": "[encoded data removed]",
      "text/plain": [
       "<Figure size 640x480 with 1 Axes>"
      ]
     },
     "metadata": {},
     "output_type": "display_data"
    }
   ],
   "source": [
    "sns.distplot(df_project['TotalWorkExperienceInYears']);"
   ]
  },
  {
   "cell_type": "code",
   "execution_count": 11,
   "id": "a252aed8-842c-4823-abc5-1066fdc71bf9",
   "metadata": {},
   "outputs": [
    {
     "name": "stderr",
     "output_type": "stream",
     "text": [
      "C:\\Users\\user\\AppData\\Local\\Temp\\ipykernel_25380\\4241217677.py:3: UserWarning: \n",
      "\n",
      "`distplot` is a deprecated function and will be removed in seaborn v0.14.0.\n",
      "\n",
      "Please adapt your code to use either `displot` (a figure-level function with\n",
      "similar flexibility) or `histplot` (an axes-level function for histograms).\n",
      "\n",
      "For a guide to updating your code to use the new functions, please see\n",
      "https://gist.github.com/mwaskom/de44147ed2974457ad6372750bbe5751\n",
      "\n",
      "  sns.distplot(df_project['EducationBackground']);\n"
     ]
    },
    {
     "ename": "ValueError",
     "evalue": "could not convert string to float: 'Marketing'",
     "output_type": "error",
     "traceback": [
      "\u001b[1;31m---------------------------------------------------------------------------\u001b[0m",
      "\u001b[1;31mValueError\u001b[0m                                Traceback (most recent call last)",
      "Cell \u001b[1;32mIn[11], line 3\u001b[0m\n\u001b[0;32m      1\u001b[0m df_project[\u001b[38;5;124m'\u001b[39m\u001b[38;5;124mGender\u001b[39m\u001b[38;5;124m'\u001b[39m]\u001b[38;5;241m.\u001b[39mvalue_counts()\u001b[38;5;241m.\u001b[39mplot(kind\u001b[38;5;241m=\u001b[39m\u001b[38;5;124m'\u001b[39m\u001b[38;5;124mpie\u001b[39m\u001b[38;5;124m'\u001b[39m, autopct\u001b[38;5;241m=\u001b[39m \u001b[38;5;124m'\u001b[39m\u001b[38;5;132;01m%1.2f\u001b[39;00m\u001b[38;5;124m'\u001b[39m,figsize\u001b[38;5;241m=\u001b[39m(\u001b[38;5;241m4\u001b[39m,\u001b[38;5;241m4\u001b[39m))\n\u001b[0;32m      2\u001b[0m plt\u001b[38;5;241m.\u001b[39mtitle(\u001b[38;5;124m'\u001b[39m\u001b[38;5;124m The percentage of gender\u001b[39m\u001b[38;5;124m'\u001b[39m)\n\u001b[1;32m----> 3\u001b[0m sns\u001b[38;5;241m.\u001b[39mdistplot(df_project[\u001b[38;5;124m'\u001b[39m\u001b[38;5;124mEducationBackground\u001b[39m\u001b[38;5;124m'\u001b[39m])\n",
      "File \u001b[1;32m~\\PANACONDA\\Lib\\site-packages\\seaborn\\distributions.py:2443\u001b[0m, in \u001b[0;36mdistplot\u001b[1;34m(a, bins, hist, kde, rug, fit, hist_kws, kde_kws, rug_kws, fit_kws, color, vertical, norm_hist, axlabel, label, ax, x)\u001b[0m\n\u001b[0;32m   2440\u001b[0m     a \u001b[38;5;241m=\u001b[39m x\n\u001b[0;32m   2442\u001b[0m \u001b[38;5;66;03m# Make a a 1-d float array\u001b[39;00m\n\u001b[1;32m-> 2443\u001b[0m a \u001b[38;5;241m=\u001b[39m np\u001b[38;5;241m.\u001b[39masarray(a, \u001b[38;5;28mfloat\u001b[39m)\n\u001b[0;32m   2444\u001b[0m \u001b[38;5;28;01mif\u001b[39;00m a\u001b[38;5;241m.\u001b[39mndim \u001b[38;5;241m>\u001b[39m \u001b[38;5;241m1\u001b[39m:\n\u001b[0;32m   2445\u001b[0m     a \u001b[38;5;241m=\u001b[39m a\u001b[38;5;241m.\u001b[39msqueeze()\n",
      "File \u001b[1;32m~\\PANACONDA\\Lib\\site-packages\\pandas\\core\\series.py:1031\u001b[0m, in \u001b[0;36mSeries.__array__\u001b[1;34m(self, dtype, copy)\u001b[0m\n\u001b[0;32m    981\u001b[0m \u001b[38;5;250m\u001b[39m\u001b[38;5;124;03m\"\"\"\u001b[39;00m\n\u001b[0;32m    982\u001b[0m \u001b[38;5;124;03mReturn the values as a NumPy array.\u001b[39;00m\n\u001b[0;32m    983\u001b[0m \n\u001b[1;32m   (...)\u001b[0m\n\u001b[0;32m   1028\u001b[0m \u001b[38;5;124;03m      dtype='datetime64[ns]')\u001b[39;00m\n\u001b[0;32m   1029\u001b[0m \u001b[38;5;124;03m\"\"\"\u001b[39;00m\n\u001b[0;32m   1030\u001b[0m values \u001b[38;5;241m=\u001b[39m \u001b[38;5;28mself\u001b[39m\u001b[38;5;241m.\u001b[39m_values\n\u001b[1;32m-> 1031\u001b[0m arr \u001b[38;5;241m=\u001b[39m np\u001b[38;5;241m.\u001b[39masarray(values, dtype\u001b[38;5;241m=\u001b[39mdtype)\n\u001b[0;32m   1032\u001b[0m \u001b[38;5;28;01mif\u001b[39;00m using_copy_on_write() \u001b[38;5;129;01mand\u001b[39;00m astype_is_view(values\u001b[38;5;241m.\u001b[39mdtype, arr\u001b[38;5;241m.\u001b[39mdtype):\n\u001b[0;32m   1033\u001b[0m     arr \u001b[38;5;241m=\u001b[39m arr\u001b[38;5;241m.\u001b[39mview()\n",
      "\u001b[1;31mValueError\u001b[0m: could not convert string to float: 'Marketing'"
     ]
    },
    {
     "data": {
      "image/png": "[encoded data removed]",
      "text/plain": [
       "<Figure size 400x400 with 1 Axes>"
      ]
     },
     "metadata": {},
     "output_type": "display_data"
    }
   ],
   "source": [
    "df_project['Gender'].value_counts().plot(kind='pie', autopct= '%1.2f',figsize=(4,4))\n",
    "plt.title(' The percentage of gender')\n",
    "sns.distplot(df_project['EducationBackground']);"
   ]
  },
  {
   "cell_type": "code",
   "execution_count": null,
   "id": "954dd7ff-0fb3-4a23-9cfb-2ab0b0106997",
   "metadata": {},
   "outputs": [],
   "source": [
    "df_project['MaritalStatus'].value_counts().plot(kind='pie', autopct= '%1.2f',figsize=(4,4))\n",
    "plt.title(' The percentage of MaritalStatus')\n",
    "sns.distplot(df_project['MaritalStatus']);"
   ]
  },
  {
   "cell_type": "code",
   "execution_count": null,
   "id": "af0d75a6-0fd9-444d-ad52-5ac5e2c4fa36",
   "metadata": {},
   "outputs": [],
   "source": [
    "df_project['BusinessTravelFrequency'].value_counts().plot(kind='pie', autopct= '%1.2f',figsize=(4,4))\n",
    "plt.title(' The percentage of BusinessTravelFrequency')\n",
    "sns.distplot(df_project['BusinessTravelFrequency']);"
   ]
  },
  {
   "cell_type": "code",
   "execution_count": null,
   "id": "a2087f80-dec6-4861-8d61-9f36c85030d1",
   "metadata": {},
   "outputs": [],
   "source": [
    "df_project['Attrition'].value_counts().plot(kind='pie', autopct= '%1.2f',figsize=(4,4))\n",
    "plt.title(' The percentage of Attrition')\n",
    "sns.distplot(df_project['Attrition']);"
   ]
  },
  {
   "cell_type": "code",
   "execution_count": null,
   "id": "a47eb627-d937-4ad1-97f6-7f870dad9f25",
   "metadata": {},
   "outputs": [],
   "source": [
    "sns.distplot(df_project['DistanceFromHome']);"
   ]
  },
  {
   "cell_type": "code",
   "execution_count": null,
   "id": "db752e0e-5b6d-4c6d-b03c-57ddbd4fc01e",
   "metadata": {},
   "outputs": [],
   "source": [
    "ax=df_project['EducationBackground'].value_counts().plot(kind='bar', rot=60)\n",
    "plt.title= ('Bar chart of Educational background')"
   ]
  },
  {
   "cell_type": "code",
   "execution_count": null,
   "id": "983aa311-78f8-4782-857a-bb322c93410e",
   "metadata": {},
   "outputs": [],
   "source": [
    "columns_to_plot = ['EmpEnvironmentSatisfaction', 'EmpHourlyRate',  'EmpJobInvolvement', 'EmpJobLevel']\n",
    "fig, axes = plt.subplots(nrows=2, ncols=2, figsize=(10, 8))\n",
    "\n",
    "# Flatten the axes array for easy iteration\n",
    "axes = axes.flatten()\n",
    "\n",
    "for i, col in enumerate(columns_to_plot):\n",
    "    axes[i].hist(df_project[col], bins=10, alpha=0.7)\n",
    "    axes[i].set_title(f'Histogram of {col}')\n",
    "    axes[i].set_xlabel(col)\n",
    "    axes[i].set_ylabel('Frequency')\n",
    "\n",
    "plt.tight_layout()\n",
    "plt.show()"
   ]
  },
  {
   "cell_type": "code",
   "execution_count": null,
   "id": "5e1313b0-0844-4fed-8800-d0261ba6095b",
   "metadata": {},
   "outputs": [],
   "source": [
    "sns.boxplot(df_project['EmpJobSatisfaction']);"
   ]
  },
  {
   "cell_type": "code",
   "execution_count": 28,
   "id": "d15d2529-10bd-4da5-b6dc-c0fddd5bafa0",
   "metadata": {},
   "outputs": [
    {
     "data": {
      "image/png": "[encoded data removed]",
      "text/plain": [
       "<Figure size 2000x600 with 4 Axes>"
      ]
     },
     "metadata": {},
     "output_type": "display_data"
    }
   ],
   "source": [
    "columns_to_plot = ['ExperienceYearsInCurrentRole', 'ExperienceYearsAtThisCompany', 'YearsWithCurrManager', 'YearsSinceLastPromotion']\n",
    "\n",
    "# Create subplots\n",
    "num_columns = len(columns_to_plot)\n",
    "fig, axes = plt.subplots(1, num_columns, figsize=(5 * num_columns, 6))\n",
    "\n",
    "# Plot each boxplot with customization\n",
    "for i, column in enumerate(columns_to_plot):\n",
    "    axes[i].boxplot(df_project[column], patch_artist=True,\n",
    "                    boxprops=dict(facecolor='skyblue', color='blue'),\n",
    "                    whiskerprops=dict(color='blue'),\n",
    "                    capprops=dict(color='blue'),\n",
    "                    medianprops=dict(color='red'))\n",
    "    axes[i].set_title(column)\n",
    "    axes[i].set_xlabel('Values')\n",
    "    axes[i].set_ylabel('Frequency')\n",
    "\n",
    "# Adjust layout\n",
    "plt.tight_layout()\n",
    "plt.show()"
   ]
  },
  {
   "cell_type": "code",
   "execution_count": 41,
   "id": "d05f7cf6-1ca9-4fc9-8ca3-4ee3c18ecf44",
   "metadata": {},
   "outputs": [
    {
     "data": {
      "image/png": "[encoded data removed]",
      "text/plain": [
       "<Figure size 640x480 with 1 Axes>"
      ]
     },
     "metadata": {},
     "output_type": "display_data"
    }
   ],
   "source": [
    "ax=df_project['TrainingTimesLastYear'].value_counts().plot(kind='bar', rot=60)"
   ]
  },
  {
   "cell_type": "code",
   "execution_count": 42,
   "id": "d5486af7-f88c-4213-9579-ee26308da866",
   "metadata": {},
   "outputs": [
    {
     "data": {
      "image/png": "[encoded data removed]",
      "text/plain": [
       "<Figure size 640x480 with 1 Axes>"
      ]
     },
     "metadata": {},
     "output_type": "display_data"
    }
   ],
   "source": [
    "ax=df_project['EmpRelationshipSatisfaction'].value_counts().plot(kind='bar', rot=60)"
   ]
  },
  {
   "cell_type": "code",
   "execution_count": 43,
   "id": "8cf95547-0330-40fe-b947-e8772e604baa",
   "metadata": {},
   "outputs": [
    {
     "data": {
      "image/png": "[encoded data removed]",
      "text/plain": [
       "<Figure size 640x480 with 1 Axes>"
      ]
     },
     "metadata": {},
     "output_type": "display_data"
    }
   ],
   "source": [
    "ax=df_project['EmpRelationshipSatisfaction'].value_counts().plot(kind='bar', rot=60)"
   ]
  },
  {
   "cell_type": "code",
   "execution_count": 44,
   "id": "981cc928-ba4c-4193-a7ec-1005c40c6bb9",
   "metadata": {},
   "outputs": [
    {
     "data": {
      "image/png": "[encoded data removed]",
      "text/plain": [
       "<Figure size 640x480 with 1 Axes>"
      ]
     },
     "metadata": {},
     "output_type": "display_data"
    }
   ],
   "source": [
    "ax=df_project['NumCompaniesWorked'].value_counts().plot(kind='bar', rot=60)"
   ]
  },
  {
   "cell_type": "code",
   "execution_count": 52,
   "id": "994cfe58-3433-4a13-aaa7-66ac7505bdcb",
   "metadata": {},
   "outputs": [
    {
     "data": {
      "image/png": "[encoded data removed]",
      "text/plain": [
       "<Figure size 640x480 with 1 Axes>"
      ]
     },
     "metadata": {},
     "output_type": "display_data"
    }
   ],
   "source": [
    "ax=df_project['EmpDepartment'].value_counts().plot(kind='bar', rot=60)"
   ]
  },
  {
   "cell_type": "code",
   "execution_count": 15,
   "id": "81eed2bb-bf35-44e6-a1da-93c54f01bf5d",
   "metadata": {},
   "outputs": [],
   "source": [
    "H=pd.crosstab(df_project['Gender'], df_project['PerformanceRating'])\n",
    "Q=H/H.sum()*100"
   ]
  },
  {
   "cell_type": "code",
   "execution_count": 16,
   "id": "68cdd7da-7276-46a6-8f26-c3b1180edc12",
   "metadata": {},
   "outputs": [
    {
     "data": {
      "text/html": [
       "<div>\n",
       "<style scoped>\n",
       "    .dataframe tbody tr th:only-of-type {\n",
       "        vertical-align: middle;\n",
       "    }\n",
       "\n",
       "    .dataframe tbody tr th {\n",
       "        vertical-align: top;\n",
       "    }\n",
       "\n",
       "    .dataframe thead th {\n",
       "        text-align: right;\n",
       "    }\n",
       "</style>\n",
       "<table border=\"1\" class=\"dataframe\">\n",
       "  <thead>\n",
       "    <tr style=\"text-align: right;\">\n",
       "      <th>PerformanceRating</th>\n",
       "      <th>2</th>\n",
       "      <th>3</th>\n",
       "      <th>4</th>\n",
       "    </tr>\n",
       "    <tr>\n",
       "      <th>Gender</th>\n",
       "      <th></th>\n",
       "      <th></th>\n",
       "      <th></th>\n",
       "    </tr>\n",
       "  </thead>\n",
       "  <tbody>\n",
       "    <tr>\n",
       "      <th>Female</th>\n",
       "      <td>38.659794</td>\n",
       "      <td>39.93135</td>\n",
       "      <td>38.636364</td>\n",
       "    </tr>\n",
       "    <tr>\n",
       "      <th>Male</th>\n",
       "      <td>61.340206</td>\n",
       "      <td>60.06865</td>\n",
       "      <td>61.363636</td>\n",
       "    </tr>\n",
       "  </tbody>\n",
       "</table>\n",
       "</div>"
      ],
      "text/plain": [
       "PerformanceRating          2         3          4\n",
       "Gender                                           \n",
       "Female             38.659794  39.93135  38.636364\n",
       "Male               61.340206  60.06865  61.363636"
      ]
     },
     "execution_count": 16,
     "metadata": {},
     "output_type": "execute_result"
    }
   ],
   "source": [
    "Q"
   ]
  },
  {
   "cell_type": "code",
   "execution_count": 18,
   "id": "38d6455f-5efa-423b-a941-6371246a2b12",
   "metadata": {},
   "outputs": [
    {
     "data": {
      "image/png": "[encoded data removed]",
      "text/plain": [
       "<Figure size 300x500 with 1 Axes>"
      ]
     },
     "metadata": {},
     "output_type": "display_data"
    }
   ],
   "source": [
    "ax=Q.plot(kind='bar', rot=50, stacked=False, width=0.5, figsize=(3,5))"
   ]
  },
  {
   "cell_type": "code",
   "execution_count": 21,
   "id": "ad43bf93-4e35-461e-bbd7-7d5abaa4fa0b",
   "metadata": {},
   "outputs": [],
   "source": [
    "A=pd.crosstab(df_project['EducationBackground'], df_project['PerformanceRating'])\n",
    "B=A/A.sum()*100"
   ]
  },
  {
   "cell_type": "code",
   "execution_count": 22,
   "id": "00e82863-b3c7-4241-8425-58465f681474",
   "metadata": {},
   "outputs": [
    {
     "data": {
      "text/html": [
       "<div>\n",
       "<style scoped>\n",
       "    .dataframe tbody tr th:only-of-type {\n",
       "        vertical-align: middle;\n",
       "    }\n",
       "\n",
       "    .dataframe tbody tr th {\n",
       "        vertical-align: top;\n",
       "    }\n",
       "\n",
       "    .dataframe thead th {\n",
       "        text-align: right;\n",
       "    }\n",
       "</style>\n",
       "<table border=\"1\" class=\"dataframe\">\n",
       "  <thead>\n",
       "    <tr style=\"text-align: right;\">\n",
       "      <th>PerformanceRating</th>\n",
       "      <th>2</th>\n",
       "      <th>3</th>\n",
       "      <th>4</th>\n",
       "    </tr>\n",
       "    <tr>\n",
       "      <th>EducationBackground</th>\n",
       "      <th></th>\n",
       "      <th></th>\n",
       "      <th></th>\n",
       "    </tr>\n",
       "  </thead>\n",
       "  <tbody>\n",
       "    <tr>\n",
       "      <th>Human Resources</th>\n",
       "      <td>1.546392</td>\n",
       "      <td>1.830664</td>\n",
       "      <td>1.515152</td>\n",
       "    </tr>\n",
       "    <tr>\n",
       "      <th>Life Sciences</th>\n",
       "      <td>40.206186</td>\n",
       "      <td>40.846682</td>\n",
       "      <td>43.181818</td>\n",
       "    </tr>\n",
       "    <tr>\n",
       "      <th>Marketing</th>\n",
       "      <td>14.948454</td>\n",
       "      <td>10.755149</td>\n",
       "      <td>10.606061</td>\n",
       "    </tr>\n",
       "    <tr>\n",
       "      <th>Medical</th>\n",
       "      <td>32.474227</td>\n",
       "      <td>32.151030</td>\n",
       "      <td>30.303030</td>\n",
       "    </tr>\n",
       "    <tr>\n",
       "      <th>Other</th>\n",
       "      <td>1.546392</td>\n",
       "      <td>6.407323</td>\n",
       "      <td>5.303030</td>\n",
       "    </tr>\n",
       "    <tr>\n",
       "      <th>Technical Degree</th>\n",
       "      <td>9.278351</td>\n",
       "      <td>8.009153</td>\n",
       "      <td>9.090909</td>\n",
       "    </tr>\n",
       "  </tbody>\n",
       "</table>\n",
       "</div>"
      ],
      "text/plain": [
       "PerformanceRating            2          3          4\n",
       "EducationBackground                                 \n",
       "Human Resources       1.546392   1.830664   1.515152\n",
       "Life Sciences        40.206186  40.846682  43.181818\n",
       "Marketing            14.948454  10.755149  10.606061\n",
       "Medical              32.474227  32.151030  30.303030\n",
       "Other                 1.546392   6.407323   5.303030\n",
       "Technical Degree      9.278351   8.009153   9.090909"
      ]
     },
     "execution_count": 22,
     "metadata": {},
     "output_type": "execute_result"
    }
   ],
   "source": [
    "B"
   ]
  },
  {
   "cell_type": "code",
   "execution_count": 1,
   "id": "9233f960-4d9f-4551-87de-cfaaaf9a7e47",
   "metadata": {},
   "outputs": [
    {
     "ename": "NameError",
     "evalue": "name 'np' is not defined",
     "output_type": "error",
     "traceback": [
      "\u001b[1;31m---------------------------------------------------------------------------\u001b[0m",
      "\u001b[1;31mNameError\u001b[0m                                 Traceback (most recent call last)",
      "Cell \u001b[1;32mIn[1], line 1\u001b[0m\n\u001b[1;32m----> 1\u001b[0m \u001b[43mnp\u001b[49m\u001b[38;5;241m.\u001b[39mrandom\u001b[38;5;241m.\u001b[39mseed(\u001b[38;5;241m0\u001b[39m)  \u001b[38;5;66;03m# For reproducibility\u001b[39;00m\n\u001b[0;32m      2\u001b[0m ages \u001b[38;5;241m=\u001b[39m np\u001b[38;5;241m.\u001b[39mrandom\u001b[38;5;241m.\u001b[39mrandint(\u001b[38;5;241m18\u001b[39m, \u001b[38;5;241m61\u001b[39m, size\u001b[38;5;241m=\u001b[39m\u001b[38;5;241m100\u001b[39m)\n\u001b[0;32m      3\u001b[0m df_project \u001b[38;5;241m=\u001b[39m pd\u001b[38;5;241m.\u001b[39mDataFrame({\u001b[38;5;124m'\u001b[39m\u001b[38;5;124mage\u001b[39m\u001b[38;5;124m'\u001b[39m: ages})\n",
      "\u001b[1;31mNameError\u001b[0m: name 'np' is not defined"
     ]
    }
   ],
   "source": [
    "np.random.seed(0)  # For reproducibility\n",
    "ages = np.random.randint(18, 61, size=100)\n",
    "df_project = pd.DataFrame({'age': ages})\n",
    "\n",
    "# Define age intervals\n",
    "bins = list(range(18, 65, 4))  # Intervals of 4 years\n",
    "labels = [f'{bins[i]}-{bins[i+1]-1}' for i in range(len(bins)-1)]\n",
    "\n",
    "# Create age groups\n",
    "df_project['age_group'] = pd.cut(df_project['age'], bins=bins, labels=labels, right=False)\n",
    "\n",
    "# Display the dataframe\n",
    "df_project.head()"
   ]
  },
  {
   "cell_type": "code",
   "execution_count": null,
   "id": "1fd099cd-c89a-44a2-8c80-79784dd2d474",
   "metadata": {},
   "outputs": [],
   "source": []
  },
  {
   "cell_type": "code",
   "execution_count": null,
   "id": "04fa7610-04d7-4f12-a327-b7923052f1b7",
   "metadata": {},
   "outputs": [],
   "source": []
  },
  {
   "cell_type": "code",
   "execution_count": null,
   "id": "c22ad044-2d9e-44eb-bc33-1cc7610fdf5f",
   "metadata": {},
   "outputs": [],
   "source": []
  }
 ],
 "metadata": {
  "kernelspec": {
   "display_name": "Python 3 (ipykernel)",
   "language": "python",
   "name": "python3"
  },
  "language_info": {
   "codemirror_mode": {
    "name": "ipython",
    "version": 3
   },
   "file_extension": ".py",
   "mimetype": "text/x-python",
   "name": "python",
   "nbconvert_exporter": "python",
   "pygments_lexer": "ipython3",
   "version": "3.12.4"
  }
 },
 "nbformat": 4,
 "nbformat_minor": 5
}
